{
 "cells": [
  {
   "cell_type": "code",
   "execution_count": 1,
   "metadata": {},
   "outputs": [],
   "source": [
    "import operator\n",
    "import numpy as np\n",
    "import os\n",
    "from csv import DictReader\n",
    "\n",
    "datoteke = os.listdir(\"podatki/\")\n",
    "podatki_o_vozilih = []\n",
    "for dat in datoteke:\n",
    "    if \"Podatki\" in dat and \"2020\" not in dat:\n",
    "        neki = DictReader(open('podatki/' + dat, 'rt', encoding='ANSI'), delimiter=';')\n",
    "        for i in neki:\n",
    "            if i[\"T-Najvisja hitrost\"] != \"\" and i[\"T-Najvisja hitrost\"] != None:\n",
    "                podatki_o_vozilih.append([float(str(i[\"T-Najvisja hitrost\"]).replace(\",\", \".\")), i[\"P.1.3-Vrsta goriva (opis)\"], i[\"D.3-Komerc. oznaka\"], i[\"D.1-Znamka\"]])\n",
    "                \n",
    "podatki_o_vozilih = np.array(podatki_o_vozilih)"
   ]
  },
  {
   "cell_type": "markdown",
   "metadata": {},
   "source": [
    "Najhitrejše vozilo."
   ]
  },
  {
   "cell_type": "code",
   "execution_count": 2,
   "metadata": {},
   "outputs": [],
   "source": [
    "max = 0\n",
    "for i in podatki_o_vozilih:\n",
    "    if float(i[0]) > max:\n",
    "        max = float(i[0])\n",
    "        max_model = i[2]\n",
    "        max_gorivo = i[1]\n",
    "        max_znamka = i[3]"
   ]
  },
  {
   "cell_type": "code",
   "execution_count": 3,
   "metadata": {},
   "outputs": [
    {
     "name": "stdout",
     "output_type": "stream",
     "text": [
      "Najhitrejše registrirano vozilo je znamke SCHWINGENSCHLOGEL, modela DSTK 36 VK/F/I / s hitrostjo 910.0km/h.\n"
     ]
    }
   ],
   "source": [
    "print(\"Najhitrejše registrirano vozilo je znamke \" + str(max_znamka) + \", modela \" + str(max_model) + \" s hitrostjo \" + str(max) + \"km/h.\")"
   ]
  },
  {
   "cell_type": "markdown",
   "metadata": {},
   "source": [
    "Najhitrejše vozilo, ki uporablja neko gorivo."
   ]
  },
  {
   "cell_type": "code",
   "execution_count": 4,
   "metadata": {},
   "outputs": [],
   "source": [
    "max = 0\n",
    "for i in podatki_o_vozilih:\n",
    "    if float(i[0]) > max and i[1] != \"Ni goriva\":\n",
    "        max = float(i[0])\n",
    "        max_model = i[2]\n",
    "        max_gorivo = i[1]\n",
    "        max_znamka = i[3]"
   ]
  },
  {
   "cell_type": "code",
   "execution_count": 5,
   "metadata": {},
   "outputs": [
    {
     "name": "stdout",
     "output_type": "stream",
     "text": [
      "Najhitrejše registrirano vozilo je znamke OPEL, modela ZAFIRA / 2.0 / DTI 16V s hitrostjo 793.0km/h.\n"
     ]
    }
   ],
   "source": [
    "print(\"Najhitrejše registrirano vozilo je znamke \" + str(max_znamka) + \", modela \" + str(max_model) + \" s hitrostjo \" + str(max) + \"km/h.\")"
   ]
  },
  {
   "cell_type": "markdown",
   "metadata": {},
   "source": [
    "Najhitrejše vozilo, ki ima hitrost pod 370 km/h, ker vse višje hitrosti so napake v podatkih."
   ]
  },
  {
   "cell_type": "code",
   "execution_count": 6,
   "metadata": {},
   "outputs": [],
   "source": [
    "max = 0\n",
    "for i in podatki_o_vozilih:\n",
    "    if float(i[0]) > max and i[1] != \"Ni goriva\" and float(i[0]) < 370:\n",
    "        max = float(i[0])\n",
    "        max_model = i[2]\n",
    "        max_gorivo = i[1]\n",
    "        max_znamka = i[3]"
   ]
  },
  {
   "cell_type": "code",
   "execution_count": 7,
   "metadata": {},
   "outputs": [
    {
     "name": "stdout",
     "output_type": "stream",
     "text": [
      "Najhitrejše registrirano vozilo je znamke PORSCHE, modela 911 GT2 RS / / s hitrostjo 340.0km/h.\n",
      "Vrsta goriva je Bencin.\n"
     ]
    }
   ],
   "source": [
    "print(\"Najhitrejše registrirano vozilo je znamke \" + str(max_znamka) + \", modela \" + str(max_model) + \" s hitrostjo \" + str(max) + \"km/h.\\nVrsta goriva je \" + max_gorivo + \".\")"
   ]
  },
  {
   "cell_type": "markdown",
   "metadata": {},
   "source": [
    "Najhitrejše dizelsko vozilo."
   ]
  },
  {
   "cell_type": "code",
   "execution_count": 8,
   "metadata": {},
   "outputs": [],
   "source": [
    "max = 0\n",
    "for i in podatki_o_vozilih:\n",
    "    if float(i[0]) > max and i[1] != \"Ni goriva\" and float(i[0]) < 370 and i[1] == \"Dizel\":\n",
    "        max = float(i[0])\n",
    "        max_model = i[2]\n",
    "        max_gorivo = i[1]\n",
    "        max_znamka = i[3]"
   ]
  },
  {
   "cell_type": "code",
   "execution_count": 9,
   "metadata": {},
   "outputs": [
    {
     "name": "stdout",
     "output_type": "stream",
     "text": [
      "Najhitrejše registrirano vozilo je znamke PORSCHE, modela Panamera 4S Diesel / / AUT. s hitrostjo 285.0km/h.\n",
      "Vrsta goriva je Dizel.\n"
     ]
    }
   ],
   "source": [
    "print(\"Najhitrejše registrirano vozilo je znamke \" + str(max_znamka) + \", modela \" + str(max_model) + \" s hitrostjo \" + str(max) + \"km/h.\\nVrsta goriva je \" + max_gorivo + \".\")"
   ]
  }
 ],
 "metadata": {
  "kernelspec": {
   "display_name": "Python 3",
   "language": "python",
   "name": "python3"
  },
  "language_info": {
   "codemirror_mode": {
    "name": "ipython",
    "version": 3
   },
   "file_extension": ".py",
   "mimetype": "text/x-python",
   "name": "python",
   "nbconvert_exporter": "python",
   "pygments_lexer": "ipython3",
   "version": "3.7.4"
  }
 },
 "nbformat": 4,
 "nbformat_minor": 2
}

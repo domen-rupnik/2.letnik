{
 "cells": [
  {
   "cell_type": "code",
   "execution_count": 1,
   "metadata": {},
   "outputs": [],
   "source": [
    "import operator\n",
    "import numpy as np\n",
    "import os\n",
    "from csv import DictReader\n",
    "\n",
    "datoteke = os.listdir(\"podatki/\")\n",
    "barva_datum = []\n",
    "for dat in datoteke:\n",
    "    if \"Podatki\" in dat and \"2020\" not in dat:\n",
    "        neki = DictReader(open('podatki/' + dat, 'rt', encoding='ANSI'), delimiter=';')\n",
    "        for i in neki:\n",
    "            barva_datum.append((i[\"2A-Datum prve registracije vozila v SLO\"], i[\"R-Barva vozila (oznaka)\"], dat[8:-4], i[\"Status vozila (opis)\"]))\n",
    "\n",
    "barva_datum = np.array(barva_datum)"
   ]
  },
  {
   "cell_type": "code",
   "execution_count": 11,
   "metadata": {},
   "outputs": [],
   "source": [
    "barva_datum[0,:]\n",
    "datumi_barve = dict()\n",
    "for i in barva_datum:\n",
    "    if i[3] != \"odjavljeno\":\n",
    "        if i[2] not in datumi_barve:\n",
    "            datumi_barve[i[2]] = []\n",
    "        datumi_barve[i[2]].append(i[1])"
   ]
  },
  {
   "cell_type": "code",
   "execution_count": 12,
   "metadata": {},
   "outputs": [],
   "source": [
    "from collections import Counter\n",
    "stevilo_barv = []\n",
    "for key in datumi_barve:\n",
    "    barve = datumi_barve[key]\n",
    "    najpogostejsa_barva = [[word, word_count] for word, word_count in Counter(barve).most_common(1)]\n",
    "    stevilo_barv.append((najpogostejsa_barva, key, len(barve)))"
   ]
  },
  {
   "cell_type": "code",
   "execution_count": 13,
   "metadata": {},
   "outputs": [
    {
     "data": {
      "text/plain": [
       "[([['S0M', 1384]], '012015', 8269),\n",
       " ([['S0M', 1506]], '012016', 9613),\n",
       " ([['S0M', 1750]], '012017', 9639),\n",
       " ([['S0M', 2155]], '012018', 11358),\n",
       " ([['S0M', 2102]], '012019', 10798),\n",
       " ([['S0M', 1220]], '022015', 7430),\n",
       " ([['S0M', 1343]], '022016', 8408),\n",
       " ([['S0M', 1662]], '022017', 9127),\n",
       " ([['S0M', 1729]], '022018', 9032),\n",
       " ([['S0M', 1892]], '022019', 10000),\n",
       " ([['S0M', 1534]], '032015', 10678),\n",
       " ([['S0M', 1574]], '032016', 10990),\n",
       " ([['S0M', 2101]], '032017', 12833),\n",
       " ([['S0M', 2417]], '032018', 13195),\n",
       " ([['S0M', 2441]], '032019', 12969),\n",
       " ([['S0M', 1564]], '042015', 10301),\n",
       " ([['S0M', 1639]], '042016', 10354),\n",
       " ([['S0M', 2399]], '042017', 17636),\n",
       " ([['S0M', 2315]], '042018', 12728),\n",
       " ([['S0M', 2286]], '042019', 12177),\n",
       " ([['S0M', 1549]], '052015', 9797),\n",
       " ([['S0M', 1703]], '052016', 10565),\n",
       " ([['S0M', 2443]], '052017', 16465),\n",
       " ([['S0M', 2438]], '052018', 13699),\n",
       " ([['S0M', 2273]], '052019', 12694),\n",
       " ([['S0M', 1582]], '062015', 9621),\n",
       " ([['S0M', 1772]], '062016', 10834),\n",
       " ([['S0M', 2505]], '062017', 15030),\n",
       " ([['S0M', 2528]], '062018', 13359),\n",
       " ([['S0M', 2142]], '062019', 11722),\n",
       " ([['S0M', 1468]], '072015', 9467),\n",
       " ([['S0M', 1480]], '072016', 9181),\n",
       " ([['S0M', 1879]], '072017', 11069),\n",
       " ([['S0M', 2181]], '072018', 11927),\n",
       " ([['S0M', 2189]], '072019', 11541),\n",
       " ([['S0M', 1077]], '082015', 7315),\n",
       " ([['S0M', 1361]], '082016', 7660),\n",
       " ([['S0M', 1592]], '082017', 9587),\n",
       " ([['S0M', 1942]], '082018', 10747),\n",
       " ([['S0M', 1685]], '082019', 9431),\n",
       " ([['S0M', 1403]], '092015', 8468),\n",
       " ([['S0M', 1570]], '092016', 9082),\n",
       " ([['S0M', 1838]], '092017', 9780),\n",
       " ([['S0M', 1988]], '092018', 10155),\n",
       " ([['S0M', 1830]], '092019', 9723),\n",
       " ([['S0M', 1507]], '102015', 9301),\n",
       " ([['S0M', 1562]], '102016', 9019),\n",
       " ([['S0M', 1943]], '102017', 10765),\n",
       " ([['S0M', 2320]], '102018', 10893),\n",
       " ([['S0M', 1925]], '102019', 10501),\n",
       " ([['S0M', 1471]], '112015', 8659),\n",
       " ([['S0M', 1725]], '112016', 8941),\n",
       " ([['S0M', 1927]], '112017', 9941),\n",
       " ([['S0M', 2019]], '112018', 9535),\n",
       " ([['S0M', 1973]], '112019', 9178),\n",
       " ([['S0M', 1284]], '122015', 7039),\n",
       " ([['S0M', 1683]], '122016', 7963),\n",
       " ([['S0M', 1712]], '122017', 7687),\n",
       " ([['S0M', 1469]], '122018', 7268),\n",
       " ([['S0M', 1636]], '122019', 7591)]"
      ]
     },
     "execution_count": 13,
     "metadata": {},
     "output_type": "execute_result"
    }
   ],
   "source": [
    "stevilo_barv"
   ]
  },
  {
   "cell_type": "code",
   "execution_count": 14,
   "metadata": {},
   "outputs": [
    {
     "data": {
      "text/plain": [
       "1384"
      ]
     },
     "execution_count": 14,
     "metadata": {},
     "output_type": "execute_result"
    }
   ],
   "source": [
    "stevilo_barv[0][0][0][1]"
   ]
  },
  {
   "cell_type": "code",
   "execution_count": 15,
   "metadata": {},
   "outputs": [
    {
     "data": {
      "text/plain": [
       "{'prvo2015': [8833, 56096],\n",
       " 'prvo2016': [9537, 60764],\n",
       " 'prvo2017': [12860, 80730],\n",
       " 'prvo2018': [13582, 73371],\n",
       " 'prvo2019': [13136, 70360],\n",
       " 'drugo2015': [8210, 50249],\n",
       " 'drugo2016': [9381, 51846],\n",
       " 'drugo2017': [10891, 58829],\n",
       " 'drugo2018': [11919, 60525],\n",
       " 'drugo2019': [11238, 57965]}"
      ]
     },
     "execution_count": 15,
     "metadata": {},
     "output_type": "execute_result"
    }
   ],
   "source": [
    "po_polletjih = dict()\n",
    "for vrstica in stevilo_barv:\n",
    "    if int(vrstica[1][:2]) < 7:\n",
    "        if int(vrstica[1][-2:]) == 15:\n",
    "            if \"prvo2015\" not in po_polletjih:\n",
    "                po_polletjih[\"prvo2015\"] = [0,0]\n",
    "            po_polletjih[\"prvo2015\"][0] += vrstica[0][0][1]\n",
    "            po_polletjih[\"prvo2015\"][1] += vrstica[2]\n",
    "        if int(vrstica[1][-2:]) == 16:\n",
    "            if \"prvo2016\" not in po_polletjih:\n",
    "                po_polletjih[\"prvo2016\"] = [0,0]\n",
    "            po_polletjih[\"prvo2016\"][0] += vrstica[0][0][1]\n",
    "            po_polletjih[\"prvo2016\"][1] += vrstica[2]\n",
    "        if int(vrstica[1][-2:]) == 17:\n",
    "            if \"prvo2017\" not in po_polletjih:\n",
    "                po_polletjih[\"prvo2017\"] = [0,0]\n",
    "            po_polletjih[\"prvo2017\"][0] += vrstica[0][0][1]\n",
    "            po_polletjih[\"prvo2017\"][1] += vrstica[2]\n",
    "        if int(vrstica[1][-2:]) == 18:\n",
    "            if \"prvo2018\" not in po_polletjih:\n",
    "                po_polletjih[\"prvo2018\"] = [0,0]\n",
    "            po_polletjih[\"prvo2018\"][0] += vrstica[0][0][1]\n",
    "            po_polletjih[\"prvo2018\"][1] += vrstica[2]\n",
    "        if int(vrstica[1][-2:]) == 19:\n",
    "            if \"prvo2019\" not in po_polletjih:\n",
    "                po_polletjih[\"prvo2019\"] = [0,0]\n",
    "            po_polletjih[\"prvo2019\"][0] += vrstica[0][0][1]\n",
    "            po_polletjih[\"prvo2019\"][1] += vrstica[2]\n",
    "    if int(vrstica[1][:2]) > 6:\n",
    "        if int(vrstica[1][-2:]) == 15:\n",
    "            if \"drugo2015\" not in po_polletjih:\n",
    "                po_polletjih[\"drugo2015\"] = [0,0]\n",
    "            po_polletjih[\"drugo2015\"][0] += vrstica[0][0][1]\n",
    "            po_polletjih[\"drugo2015\"][1] += vrstica[2]\n",
    "        if int(vrstica[1][-2:]) == 16:\n",
    "            if \"drugo2016\" not in po_polletjih:\n",
    "                po_polletjih[\"drugo2016\"] = [0,0]\n",
    "            po_polletjih[\"drugo2016\"][0] += vrstica[0][0][1]\n",
    "            po_polletjih[\"drugo2016\"][1] += vrstica[2]\n",
    "        if int(vrstica[1][-2:]) == 17:\n",
    "            if \"drugo2017\" not in po_polletjih:\n",
    "                po_polletjih[\"drugo2017\"] = [0,0]\n",
    "            po_polletjih[\"drugo2017\"][0] += vrstica[0][0][1]\n",
    "            po_polletjih[\"drugo2017\"][1] += vrstica[2]\n",
    "        if int(vrstica[1][-2:]) == 18:\n",
    "            if \"drugo2018\" not in po_polletjih:\n",
    "                po_polletjih[\"drugo2018\"] = [0,0]\n",
    "            po_polletjih[\"drugo2018\"][0] += vrstica[0][0][1]\n",
    "            po_polletjih[\"drugo2018\"][1] += vrstica[2]\n",
    "        if int(vrstica[1][-2:]) == 19:\n",
    "            if \"drugo2019\" not in po_polletjih:\n",
    "                po_polletjih[\"drugo2019\"] = [0,0]\n",
    "            po_polletjih[\"drugo2019\"][0] += vrstica[0][0][1]\n",
    "            po_polletjih[\"drugo2019\"][1] += vrstica[2]\n",
    "po_polletjih"
   ]
  },
  {
   "cell_type": "code",
   "execution_count": 16,
   "metadata": {},
   "outputs": [
    {
     "data": {
      "text/plain": [
       "{'prvo2015': [15.746220764403878, 84.25377923559613],\n",
       " 'prvo2016': [15.695148443157134, 84.30485155684286],\n",
       " 'prvo2017': [15.929642016598539, 84.07035798340146],\n",
       " 'prvo2018': [18.511400962233036, 81.48859903776696],\n",
       " 'prvo2019': [18.669698692438885, 81.33030130756111],\n",
       " 'drugo2015': [16.33863360464885, 83.66136639535115],\n",
       " 'drugo2016': [18.09397060525402, 81.90602939474599],\n",
       " 'drugo2017': [18.51297829301875, 81.48702170698125],\n",
       " 'drugo2018': [19.69268897149938, 80.30731102850062],\n",
       " 'drugo2019': [19.387561459501423, 80.61243854049857]}"
      ]
     },
     "execution_count": 16,
     "metadata": {},
     "output_type": "execute_result"
    }
   ],
   "source": [
    "for i in po_polletjih:\n",
    "    procent_barve = (po_polletjih[i][0]/po_polletjih[i][1]) * 100\n",
    "    procet_ostalega = 100 - procent_barve\n",
    "    po_polletjih[i] = [procent_barve, procet_ostalega]\n",
    "po_polletjih"
   ]
  },
  {
   "cell_type": "code",
   "execution_count": 17,
   "metadata": {},
   "outputs": [],
   "source": [
    "koncano = [po_polletjih[\"prvo2015\"], po_polletjih[\"drugo2015\"], po_polletjih[\"prvo2016\"], po_polletjih[\"drugo2016\"], po_polletjih[\"prvo2017\"], po_polletjih[\"drugo2017\"], po_polletjih[\"prvo2018\"], po_polletjih[\"drugo2018\"], po_polletjih[\"prvo2019\"], po_polletjih[\"drugo2019\"]]\n",
    "koncano = np.array(koncano)"
   ]
  },
  {
   "cell_type": "code",
   "execution_count": 18,
   "metadata": {},
   "outputs": [],
   "source": [
    "import matplotlib.pyplot as plt\n",
    "n_bins=10\n",
    "colors = ['Bela', 'Ostale barve']\n",
    "imena = [\"prvo 2015\", \"drugo 2015\", \"prvo 2016\", \"drugo 2016\", \"prvo 2017\", \"drugo 2017\", \"prvo 2018\", \"drugo 2018\", \"prvo 2019\", \"drugo2019\"]"
   ]
  },
  {
   "cell_type": "code",
   "execution_count": 19,
   "metadata": {},
   "outputs": [
    {
     "data": {
      "image/png": "[encoded data removed]",
      "text/plain": [
       "<Figure size 432x288 with 1 Axes>"
      ]
     },
     "metadata": {
      "needs_background": "light"
     },
     "output_type": "display_data"
    }
   ],
   "source": [
    "bela = koncano[:,0]\n",
    "ostalo = koncano[:,1]\n",
    "fig, ax = plt.subplots()\n",
    "ax.bar(imena, bela, label='Bela')\n",
    "ax.bar(imena, ostalo, bottom=bela,\n",
    "       label='Ostale')\n",
    "\n",
    "ax.set_ylabel('% med vsemi volzilmi')\n",
    "ax.set_title('Primerjava prisotnosti bele barve z ostalimi glede na polletje')\n",
    "ax.legend()\n",
    "plt.setp(plt.gca().get_xticklabels(), rotation=45, horizontalalignment='right')\n",
    "\n",
    "plt.show()"
   ]
  },
  {
   "cell_type": "code",
   "execution_count": null,
   "metadata": {},
   "outputs": [],
   "source": []
  },
  {
   "cell_type": "code",
   "execution_count": null,
   "metadata": {},
   "outputs": [],
   "source": []
  }
 ],
 "metadata": {
  "kernelspec": {
   "display_name": "Python 3",
   "language": "python",
   "name": "python3"
  },
  "language_info": {
   "codemirror_mode": {
    "name": "ipython",
    "version": 3
   },
   "file_extension": ".py",
   "mimetype": "text/x-python",
   "name": "python",
   "nbconvert_exporter": "python",
   "pygments_lexer": "ipython3",
   "version": "3.7.4"
  }
 },
 "nbformat": 4,
 "nbformat_minor": 2
}
